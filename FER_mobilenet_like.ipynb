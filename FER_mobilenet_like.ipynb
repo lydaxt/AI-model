{
 "cells": [
  {
   "cell_type": "markdown",
   "metadata": {},
   "source": [
    "# Facial Expression Recognition from the idea of MobileNetV2"
   ]
  },
  {
   "cell_type": "markdown",
   "metadata": {},
   "source": [
    "configurations"
   ]
  },
  {
   "cell_type": "code",
   "execution_count": 1,
   "metadata": {},
   "outputs": [],
   "source": [
    "# Import the necessary libraries for working with CIFART-10 dataset and PyTorch.\n",
    "import torch\n",
    "import torchvision\n",
    "from torchvision import datasets,transforms\n",
    "import torch.nn as nn\n",
    "import torch.nn.functional as F\n",
    "from torch import nn,optim,no_grad\n",
    "from torch.utils.data import DataLoader\n",
    "import torch.optim.lr_scheduler as lr_scheduler\n",
    "from torchinfo import summary\n",
    "\n",
    "import matplotlib.pyplot as plt\n",
    "from sklearn.metrics import classification_report\n",
    "import pandas as pd\n",
    "import cv2 as cv\n",
    "import numpy as np\n",
    "import pickle\n",
    "import sys\n",
    "import time\n",
    "import random\n",
    "from tqdm import tqdm"
   ]
  },
  {
   "cell_type": "markdown",
   "metadata": {},
   "source": [
    "check runtime environment"
   ]
  },
  {
   "cell_type": "code",
   "execution_count": 2,
   "metadata": {},
   "outputs": [
    {
     "name": "stdout",
     "output_type": "stream",
     "text": [
      "Python versoin: (3, 11, 8)\n",
      "PyTorch version: 2.2.0+cu118\n",
      "Device: cuda\n"
     ]
    }
   ],
   "source": [
    "has_mps = torch.backends.mps.is_built()\n",
    "device = \"cuda\" if torch.cuda.is_available() else \"mps\" if has_mps else \"cpu\"\n",
    "print(f\"Python versoin: {sys.version_info.major, sys.version_info.minor, sys.version_info.micro}\")\n",
    "print(f\"PyTorch version: {torch.__version__}\")\n",
    "print(f\"Device: {device}\")"
   ]
  },
  {
   "cell_type": "markdown",
   "metadata": {},
   "source": [
    "## Prepare dataset\n",
    "change the root for own dataset\n",
    "custommize data augmentation"
   ]
  },
  {
   "cell_type": "code",
   "execution_count": 3,
   "metadata": {},
   "outputs": [],
   "source": [
    "# Define data transformations for the training and test sets\n",
    "train_transform = transforms.Compose([\n",
    "     transforms.RandomHorizontalFlip(0.5), #data augmentation\n",
    "     transforms.RandomAffine(degrees=(-20, 20), translate=(0.1, 0.1), scale=(0.8, 1.2)),\n",
    "     transforms.ToTensor(), # Convert images to tensors\n",
    "     transforms.Normalize((0.5380, 0.4320, 0.3823), (0.2929, 0.2657, 0.2617))\n",
    "     ]) # Normalize the image data\n",
    "\n",
    "test_transform = transforms.Compose([\n",
    "     transforms.ToTensor(), # Convert images to tensors\n",
    "     transforms.Normalize((0.5380, 0.4320, 0.3823), (0.2929, 0.2657, 0.2617))\n",
    "     ]) # Normalize the image data\n",
    "\n",
    "\n",
    "train_set = torchvision.datasets.ImageFolder(root='./dataset/train', transform=train_transform)\n",
    "\n",
    "\n",
    "test_set = torchvision.datasets.ImageFolder(root='./dataset/test', transform=test_transform)\n",
    "\n",
    "# Define the data loaders for the training, validation, and test sets\n",
    "train_loader = torch.utils.data.DataLoader(train_set, batch_size=64, shuffle=True, num_workers=2)\n",
    "test_loader = torch.utils.data.DataLoader(test_set, batch_size=64, shuffle=False, num_workers=2)\n",
    "\n",
    "# Define the classes for the CIFAR-10 dataset\n",
    "classes = ['anger', 'contempt', 'disgust', 'fear', 'happy', 'neutral', 'sad', 'surprise']\n"
   ]
  },
  {
   "cell_type": "markdown",
   "metadata": {},
   "source": [
    "calculate the mean and s.d of training set (for normalization)(optional)"
   ]
  },
  {
   "cell_type": "code",
   "execution_count": null,
   "metadata": {},
   "outputs": [],
   "source": [
    "# mean = 0.0\n",
    "# for images, _ in train_loader:\n",
    "#     batch_samples = images.size(0) \n",
    "#     images = images.view(batch_samples, images.size(1), -1)\n",
    "#     mean += images.mean(2).sum(0)\n",
    "# mean = mean / len(train_loader.dataset)\n",
    "\n",
    "# var = 0.0\n",
    "# for images, _ in train_loader:\n",
    "#     batch_samples = images.size(0)\n",
    "#     images = images.view(batch_samples, images.size(1), -1)\n",
    "#     var += ((images - mean.unsqueeze(1))**2).sum([0,2])\n",
    "# std = torch.sqrt(var / (len(train_loader.dataset)*96*96))\n",
    "# print(mean)\n",
    "# print(std)"
   ]
  },
  {
   "cell_type": "markdown",
   "metadata": {},
   "source": [
    "## Define inverted residual block structure"
   ]
  },
  {
   "cell_type": "code",
   "execution_count": 4,
   "metadata": {},
   "outputs": [],
   "source": [
    "class InvertedResidual(nn.Module):\n",
    "    def __init__(self, inp, oup, stride, expand_ratio):\n",
    "        super(InvertedResidual, self).__init__()\n",
    "        assert stride in [1, 2]\n",
    "\n",
    "        hidden_dim = round(inp * expand_ratio)\n",
    "        self.identity = stride == 1 and inp == oup\n",
    "\n",
    "        if expand_ratio == 1:\n",
    "            self.conv = nn.Sequential(\n",
    "                # dw\n",
    "                nn.Conv2d(hidden_dim, hidden_dim, 3, stride, 1, groups=hidden_dim, bias=False),\n",
    "                nn.BatchNorm2d(hidden_dim),\n",
    "                nn.ReLU6(inplace=True),\n",
    "                # pw-linear\n",
    "                nn.Conv2d(hidden_dim, oup, 1, 1, 0, bias=False),\n",
    "                nn.BatchNorm2d(oup),\n",
    "            )\n",
    "        else:\n",
    "            self.conv = nn.Sequential(\n",
    "                # pw\n",
    "                nn.Conv2d(inp, hidden_dim, 1, 1, 0, bias=False),\n",
    "                nn.BatchNorm2d(hidden_dim),\n",
    "                nn.ReLU6(inplace=True),\n",
    "                # dw\n",
    "                nn.Conv2d(hidden_dim, hidden_dim, 3, stride, 1, groups=hidden_dim, bias=False),\n",
    "                nn.BatchNorm2d(hidden_dim),\n",
    "                nn.ReLU6(inplace=True),\n",
    "                # pw-linear\n",
    "                nn.Conv2d(hidden_dim, oup, 1, 1, 0, bias=False),\n",
    "                nn.BatchNorm2d(oup),\n",
    "            )\n",
    "\n",
    "    def forward(self, x):\n",
    "        if self.identity:\n",
    "            return x + self.conv(x)\n",
    "        else:\n",
    "            return self.conv(x)"
   ]
  },
  {
   "cell_type": "markdown",
   "metadata": {},
   "source": [
    "## Build Model Structure"
   ]
  },
  {
   "cell_type": "code",
   "execution_count": 5,
   "metadata": {},
   "outputs": [
    {
     "data": {
      "text/plain": [
       "====================================================================================================\n",
       "Layer (type (var_name))                  Input Shape     Output Shape    Param #         Trainable\n",
       "====================================================================================================\n",
       "MobileNetv2_modify (MobileNetv2_modify)  [1, 3, 96, 96]  [1, 8]          --              True\n",
       "├─Sequential (conv1)                     [1, 3, 96, 96]  [1, 32, 96, 96] --              True\n",
       "│    └─Conv2d (0)                        [1, 3, 96, 96]  [1, 32, 96, 96] 896             True\n",
       "│    └─BatchNorm2d (1)                   [1, 32, 96, 96] [1, 32, 96, 96] 64              True\n",
       "│    └─ReLU6 (2)                         [1, 32, 96, 96] [1, 32, 96, 96] --              --\n",
       "├─Sequential (conv2)                     [1, 32, 96, 96] [1, 64, 96, 96] --              True\n",
       "│    └─Conv2d (0)                        [1, 32, 96, 96] [1, 64, 96, 96] 18,496          True\n",
       "│    └─BatchNorm2d (1)                   [1, 64, 96, 96] [1, 64, 96, 96] 128             True\n",
       "│    └─ReLU6 (2)                         [1, 64, 96, 96] [1, 64, 96, 96] --              --\n",
       "├─InvertedResidual (invertedres1)        [1, 64, 96, 96] [1, 128, 48, 48] --              True\n",
       "│    └─Sequential (conv)                 [1, 64, 96, 96] [1, 128, 48, 48] --              True\n",
       "│    │    └─Conv2d (0)                   [1, 64, 96, 96] [1, 64, 48, 48] 576             True\n",
       "│    │    └─BatchNorm2d (1)              [1, 64, 48, 48] [1, 64, 48, 48] 128             True\n",
       "│    │    └─ReLU6 (2)                    [1, 64, 48, 48] [1, 64, 48, 48] --              --\n",
       "│    │    └─Conv2d (3)                   [1, 64, 48, 48] [1, 128, 48, 48] 8,192           True\n",
       "│    │    └─BatchNorm2d (4)              [1, 128, 48, 48] [1, 128, 48, 48] 256             True\n",
       "├─InvertedResidual (invertedres2)        [1, 128, 48, 48] [1, 128, 48, 48] --              True\n",
       "│    └─Sequential (conv)                 [1, 128, 48, 48] [1, 128, 48, 48] --              True\n",
       "│    │    └─Conv2d (0)                   [1, 128, 48, 48] [1, 768, 48, 48] 98,304          True\n",
       "│    │    └─BatchNorm2d (1)              [1, 768, 48, 48] [1, 768, 48, 48] 1,536           True\n",
       "│    │    └─ReLU6 (2)                    [1, 768, 48, 48] [1, 768, 48, 48] --              --\n",
       "│    │    └─Conv2d (3)                   [1, 768, 48, 48] [1, 768, 48, 48] 6,912           True\n",
       "│    │    └─BatchNorm2d (4)              [1, 768, 48, 48] [1, 768, 48, 48] 1,536           True\n",
       "│    │    └─ReLU6 (5)                    [1, 768, 48, 48] [1, 768, 48, 48] --              --\n",
       "│    │    └─Conv2d (6)                   [1, 768, 48, 48] [1, 128, 48, 48] 98,304          True\n",
       "│    │    └─BatchNorm2d (7)              [1, 128, 48, 48] [1, 128, 48, 48] 256             True\n",
       "├─InvertedResidual (invertedres3)        [1, 128, 48, 48] [1, 256, 24, 24] --              True\n",
       "│    └─Sequential (conv)                 [1, 128, 48, 48] [1, 256, 24, 24] --              True\n",
       "│    │    └─Conv2d (0)                   [1, 128, 48, 48] [1, 768, 48, 48] 98,304          True\n",
       "│    │    └─BatchNorm2d (1)              [1, 768, 48, 48] [1, 768, 48, 48] 1,536           True\n",
       "│    │    └─ReLU6 (2)                    [1, 768, 48, 48] [1, 768, 48, 48] --              --\n",
       "│    │    └─Conv2d (3)                   [1, 768, 48, 48] [1, 768, 24, 24] 6,912           True\n",
       "│    │    └─BatchNorm2d (4)              [1, 768, 24, 24] [1, 768, 24, 24] 1,536           True\n",
       "│    │    └─ReLU6 (5)                    [1, 768, 24, 24] [1, 768, 24, 24] --              --\n",
       "│    │    └─Conv2d (6)                   [1, 768, 24, 24] [1, 256, 24, 24] 196,608         True\n",
       "│    │    └─BatchNorm2d (7)              [1, 256, 24, 24] [1, 256, 24, 24] 512             True\n",
       "├─InvertedResidual (invertedres4)        [1, 256, 24, 24] [1, 256, 24, 24] --              True\n",
       "│    └─Sequential (conv)                 [1, 256, 24, 24] [1, 256, 24, 24] --              True\n",
       "│    │    └─Conv2d (0)                   [1, 256, 24, 24] [1, 1536, 24, 24] 393,216         True\n",
       "│    │    └─BatchNorm2d (1)              [1, 1536, 24, 24] [1, 1536, 24, 24] 3,072           True\n",
       "│    │    └─ReLU6 (2)                    [1, 1536, 24, 24] [1, 1536, 24, 24] --              --\n",
       "│    │    └─Conv2d (3)                   [1, 1536, 24, 24] [1, 1536, 24, 24] 13,824          True\n",
       "│    │    └─BatchNorm2d (4)              [1, 1536, 24, 24] [1, 1536, 24, 24] 3,072           True\n",
       "│    │    └─ReLU6 (5)                    [1, 1536, 24, 24] [1, 1536, 24, 24] --              --\n",
       "│    │    └─Conv2d (6)                   [1, 1536, 24, 24] [1, 256, 24, 24] 393,216         True\n",
       "│    │    └─BatchNorm2d (7)              [1, 256, 24, 24] [1, 256, 24, 24] 512             True\n",
       "├─InvertedResidual (invertedres5)        [1, 256, 24, 24] [1, 512, 12, 12] --              True\n",
       "│    └─Sequential (conv)                 [1, 256, 24, 24] [1, 512, 12, 12] --              True\n",
       "│    │    └─Conv2d (0)                   [1, 256, 24, 24] [1, 1536, 24, 24] 393,216         True\n",
       "│    │    └─BatchNorm2d (1)              [1, 1536, 24, 24] [1, 1536, 24, 24] 3,072           True\n",
       "│    │    └─ReLU6 (2)                    [1, 1536, 24, 24] [1, 1536, 24, 24] --              --\n",
       "│    │    └─Conv2d (3)                   [1, 1536, 24, 24] [1, 1536, 12, 12] 13,824          True\n",
       "│    │    └─BatchNorm2d (4)              [1, 1536, 12, 12] [1, 1536, 12, 12] 3,072           True\n",
       "│    │    └─ReLU6 (5)                    [1, 1536, 12, 12] [1, 1536, 12, 12] --              --\n",
       "│    │    └─Conv2d (6)                   [1, 1536, 12, 12] [1, 512, 12, 12] 786,432         True\n",
       "│    │    └─BatchNorm2d (7)              [1, 512, 12, 12] [1, 512, 12, 12] 1,024           True\n",
       "├─InvertedResidual (invertedres6)        [1, 512, 12, 12] [1, 512, 12, 12] --              True\n",
       "│    └─Sequential (conv)                 [1, 512, 12, 12] [1, 512, 12, 12] --              True\n",
       "│    │    └─Conv2d (0)                   [1, 512, 12, 12] [1, 3072, 12, 12] 1,572,864       True\n",
       "│    │    └─BatchNorm2d (1)              [1, 3072, 12, 12] [1, 3072, 12, 12] 6,144           True\n",
       "│    │    └─ReLU6 (2)                    [1, 3072, 12, 12] [1, 3072, 12, 12] --              --\n",
       "│    │    └─Conv2d (3)                   [1, 3072, 12, 12] [1, 3072, 12, 12] 27,648          True\n",
       "│    │    └─BatchNorm2d (4)              [1, 3072, 12, 12] [1, 3072, 12, 12] 6,144           True\n",
       "│    │    └─ReLU6 (5)                    [1, 3072, 12, 12] [1, 3072, 12, 12] --              --\n",
       "│    │    └─Conv2d (6)                   [1, 3072, 12, 12] [1, 512, 12, 12] 1,572,864       True\n",
       "│    │    └─BatchNorm2d (7)              [1, 512, 12, 12] [1, 512, 12, 12] 1,024           True\n",
       "├─InvertedResidual (invertedres7)        [1, 512, 12, 12] [1, 1024, 6, 6] --              True\n",
       "│    └─Sequential (conv)                 [1, 512, 12, 12] [1, 1024, 6, 6] --              True\n",
       "│    │    └─Conv2d (0)                   [1, 512, 12, 12] [1, 3072, 12, 12] 1,572,864       True\n",
       "│    │    └─BatchNorm2d (1)              [1, 3072, 12, 12] [1, 3072, 12, 12] 6,144           True\n",
       "│    │    └─ReLU6 (2)                    [1, 3072, 12, 12] [1, 3072, 12, 12] --              --\n",
       "│    │    └─Conv2d (3)                   [1, 3072, 12, 12] [1, 3072, 6, 6] 27,648          True\n",
       "│    │    └─BatchNorm2d (4)              [1, 3072, 6, 6] [1, 3072, 6, 6] 6,144           True\n",
       "│    │    └─ReLU6 (5)                    [1, 3072, 6, 6] [1, 3072, 6, 6] --              --\n",
       "│    │    └─Conv2d (6)                   [1, 3072, 6, 6] [1, 1024, 6, 6] 3,145,728       True\n",
       "│    │    └─BatchNorm2d (7)              [1, 1024, 6, 6] [1, 1024, 6, 6] 2,048           True\n",
       "├─Sequential (conv3)                     [1, 1024, 6, 6] [1, 2048, 1, 1] --              True\n",
       "│    └─Conv2d (0)                        [1, 1024, 6, 6] [1, 2048, 6, 6] 2,099,200       True\n",
       "│    └─BatchNorm2d (1)                   [1, 2048, 6, 6] [1, 2048, 6, 6] 4,096           True\n",
       "│    └─ReLU6 (2)                         [1, 2048, 6, 6] [1, 2048, 6, 6] --              --\n",
       "│    └─AvgPool2d (3)                     [1, 2048, 6, 6] [1, 2048, 1, 1] --              --\n",
       "├─Sequential (fc)                        [1, 2048, 1, 1] [1, 8]          --              True\n",
       "│    └─Flatten (0)                       [1, 2048, 1, 1] [1, 2048]       --              --\n",
       "│    └─Dropout (1)                       [1, 2048]       [1, 2048]       --              --\n",
       "│    └─Linear (2)                        [1, 2048]       [1, 8]          16,392          True\n",
       "====================================================================================================\n",
       "Total params: 12,615,496\n",
       "Trainable params: 12,615,496\n",
       "Non-trainable params: 0\n",
       "Total mult-adds (Units.GIGABYTES): 2.69\n",
       "====================================================================================================\n",
       "Input size (MB): 0.11\n",
       "Forward/backward pass size (MB): 195.82\n",
       "Params size (MB): 50.46\n",
       "Estimated Total Size (MB): 246.39\n",
       "===================================================================================================="
      ]
     },
     "execution_count": 5,
     "metadata": {},
     "output_type": "execute_result"
    }
   ],
   "source": [
    "# Define the CNN Model\n",
    "\n",
    "class MobileNetv2_modify(nn.Module):\n",
    "    def __init__(self):\n",
    "        super(MobileNetv2_modify, self).__init__()\n",
    "\n",
    "        self.conv1 = nn.Sequential(\n",
    "            nn.Conv2d(in_channels=3, out_channels=32, kernel_size=3, padding=1),\n",
    "            nn.BatchNorm2d(32),\n",
    "            nn.ReLU6(inplace=True)\n",
    "            )\n",
    "        self.conv2 = nn.Sequential(\n",
    "            nn.Conv2d(in_channels=32, out_channels=64, kernel_size=3, padding=1),\n",
    "            nn.BatchNorm2d(64),\n",
    "            nn.ReLU6(inplace=True)\n",
    "            )\n",
    "        self.invertedres1 = InvertedResidual(64,128,2,1)\n",
    "        self.invertedres2 = InvertedResidual(128,128,1,6)\n",
    "        self.invertedres3 = InvertedResidual(128,256,2,6)\n",
    "        self.invertedres4 = InvertedResidual(256,256,1,6)\n",
    "        self.invertedres5 = InvertedResidual(256,512,2,6)\n",
    "        self.invertedres6 = InvertedResidual(512,512,1,6)\n",
    "        self.invertedres7 = InvertedResidual(512,1024,2,6)\n",
    "\n",
    "        self.conv3 = nn.Sequential(\n",
    "            nn.Conv2d(in_channels=1024, out_channels=2048, kernel_size=1),\n",
    "            nn.BatchNorm2d(2048),\n",
    "            nn.ReLU6(inplace=True),\n",
    "            nn.AvgPool2d(6)\n",
    "            )\n",
    "\n",
    "        self.fc = nn.Sequential(\n",
    "            nn.Flatten(),\n",
    "            nn.Dropout(0.2),\n",
    "            nn.Linear(2048, 8)\n",
    "            )\n",
    "\n",
    "\n",
    "    def forward(self, x):\n",
    "        x = self.conv1(x)\n",
    "        x = self.conv2(x)\n",
    "        x = self.invertedres1(x)\n",
    "        x = self.invertedres2(x)\n",
    "        x = self.invertedres3(x)\n",
    "        x = self.invertedres4(x)\n",
    "        x = self.invertedres5(x)\n",
    "        x = self.invertedres6(x)\n",
    "        x = self.invertedres7(x)\n",
    "        x = self.conv3(x)\n",
    "        x = self.fc(x)\n",
    "        return x\n",
    "\n",
    "model = MobileNetv2_modify()\n",
    "\n",
    "summary(model=model, input_size=(1, 3, 96, 96), col_width=15,\n",
    "        col_names=['input_size', 'output_size', 'num_params', 'trainable'],\n",
    "        row_settings=['var_names'], verbose=0)"
   ]
  },
  {
   "cell_type": "code",
   "execution_count": 6,
   "metadata": {},
   "outputs": [
    {
     "name": "stderr",
     "output_type": "stream",
     "text": [
      "A subdirectory or file Model_y already exists.\n"
     ]
    }
   ],
   "source": [
    "# Create a Models folder to store the checkpoints\n",
    "!mkdir Model_y"
   ]
  },
  {
   "cell_type": "markdown",
   "metadata": {},
   "source": [
    "## Define loss function and optimizer"
   ]
  },
  {
   "cell_type": "code",
   "execution_count": 7,
   "metadata": {},
   "outputs": [],
   "source": [
    "# Specify Loss/Cost function\n",
    "criterion = nn.CrossEntropyLoss()\n",
    "\n",
    "# Specify optimizer\n",
    "optimizer = optim.Adam(model.parameters(), lr=1e-4, weight_decay=0.01)\n",
    "\n",
    "# optimizer = optim.Adam(model.parameters(), lr=0.01, betas=(0.9, 0.999), eps=1e-08, weight_decay=0, amsgrad=False)\n",
    "# optimizer = optim.SGD(model.parameters(), lr=0.01)\n",
    "\n",
    "# Specify Learning Rate Scheduler\n",
    "# scheduler = optim.lr_scheduler.ReduceLROnPlateau(optimizer, mode='min', factor=0.1, patience=10, verbose=True, min_lr=0)"
   ]
  },
  {
   "cell_type": "markdown",
   "metadata": {},
   "source": [
    "## Training"
   ]
  },
  {
   "cell_type": "code",
   "execution_count": 8,
   "metadata": {},
   "outputs": [
    {
     "name": "stderr",
     "output_type": "stream",
     "text": [
      "Epoch 1/100 [Training]: 100%|██████████| 363/363 [01:19<00:00,  4.56it/s, accuracy=0.282, loss=1.76]\n",
      "Epoch 1/100 [Test]: 100%|██████████| 91/91 [00:10<00:00,  9.05it/s, accuracy=0.347, loss=1.57] \n"
     ]
    },
    {
     "name": "stdout",
     "output_type": "stream",
     "text": [
      "Epoch 1/100, Train Loss: 1.7625, Train Accuracy: 0.2817, Test Loss: 1.5750, Test Accuracy: 0.3470\n"
     ]
    },
    {
     "name": "stderr",
     "output_type": "stream",
     "text": [
      "Epoch 2/100 [Training]: 100%|██████████| 363/363 [01:19<00:00,  4.58it/s, accuracy=0.411, loss=1.45]\n",
      "Epoch 2/100 [Test]: 100%|██████████| 91/91 [00:09<00:00,  9.17it/s, accuracy=0.435, loss=1.4] \n"
     ]
    },
    {
     "name": "stdout",
     "output_type": "stream",
     "text": [
      "Epoch 2/100, Train Loss: 1.4506, Train Accuracy: 0.4106, Test Loss: 1.4016, Test Accuracy: 0.4351\n"
     ]
    },
    {
     "name": "stderr",
     "output_type": "stream",
     "text": [
      "Epoch 3/100 [Training]: 100%|██████████| 363/363 [01:19<00:00,  4.58it/s, accuracy=0.481, loss=1.31]\n",
      "Epoch 3/100 [Test]: 100%|██████████| 91/91 [00:10<00:00,  9.06it/s, accuracy=0.483, loss=1.31]\n"
     ]
    },
    {
     "name": "stdout",
     "output_type": "stream",
     "text": [
      "Epoch 3/100, Train Loss: 1.3089, Train Accuracy: 0.4805, Test Loss: 1.3117, Test Accuracy: 0.4825\n"
     ]
    },
    {
     "name": "stderr",
     "output_type": "stream",
     "text": [
      "Epoch 4/100 [Training]: 100%|██████████| 363/363 [01:19<00:00,  4.57it/s, accuracy=0.526, loss=1.21]\n",
      "Epoch 4/100 [Test]: 100%|██████████| 91/91 [00:09<00:00,  9.17it/s, accuracy=0.508, loss=1.28]\n"
     ]
    },
    {
     "name": "stdout",
     "output_type": "stream",
     "text": [
      "Epoch 4/100, Train Loss: 1.2138, Train Accuracy: 0.5260, Test Loss: 1.2804, Test Accuracy: 0.5080\n"
     ]
    },
    {
     "name": "stderr",
     "output_type": "stream",
     "text": [
      "Epoch 5/100 [Training]: 100%|██████████| 363/363 [01:19<00:00,  4.58it/s, accuracy=0.547, loss=1.16]\n",
      "Epoch 5/100 [Test]: 100%|██████████| 91/91 [00:09<00:00,  9.11it/s, accuracy=0.542, loss=1.19]\n"
     ]
    },
    {
     "name": "stdout",
     "output_type": "stream",
     "text": [
      "Epoch 5/100, Train Loss: 1.1558, Train Accuracy: 0.5466, Test Loss: 1.1923, Test Accuracy: 0.5421\n"
     ]
    },
    {
     "name": "stderr",
     "output_type": "stream",
     "text": [
      "Epoch 6/100 [Training]: 100%|██████████| 363/363 [01:19<00:00,  4.58it/s, accuracy=0.564, loss=1.12]\n",
      "Epoch 6/100 [Test]: 100%|██████████| 91/91 [00:10<00:00,  9.09it/s, accuracy=0.556, loss=1.17] \n"
     ]
    },
    {
     "name": "stdout",
     "output_type": "stream",
     "text": [
      "Epoch 6/100, Train Loss: 1.1229, Train Accuracy: 0.5638, Test Loss: 1.1657, Test Accuracy: 0.5562\n"
     ]
    },
    {
     "name": "stderr",
     "output_type": "stream",
     "text": [
      "Epoch 7/100 [Training]: 100%|██████████| 363/363 [01:19<00:00,  4.57it/s, accuracy=0.575, loss=1.1] \n",
      "Epoch 7/100 [Test]: 100%|██████████| 91/91 [00:09<00:00,  9.14it/s, accuracy=0.541, loss=1.16]\n"
     ]
    },
    {
     "name": "stdout",
     "output_type": "stream",
     "text": [
      "Epoch 7/100, Train Loss: 1.0968, Train Accuracy: 0.5745, Test Loss: 1.1646, Test Accuracy: 0.5405\n"
     ]
    },
    {
     "name": "stderr",
     "output_type": "stream",
     "text": [
      "Epoch 8/100 [Training]: 100%|██████████| 363/363 [01:19<00:00,  4.57it/s, accuracy=0.587, loss=1.07]\n",
      "Epoch 8/100 [Test]: 100%|██████████| 91/91 [00:09<00:00,  9.16it/s, accuracy=0.555, loss=1.15]\n"
     ]
    },
    {
     "name": "stdout",
     "output_type": "stream",
     "text": [
      "Epoch 8/100, Train Loss: 1.0690, Train Accuracy: 0.5872, Test Loss: 1.1513, Test Accuracy: 0.5550\n"
     ]
    },
    {
     "name": "stderr",
     "output_type": "stream",
     "text": [
      "Epoch 9/100 [Training]: 100%|██████████| 363/363 [01:19<00:00,  4.57it/s, accuracy=0.597, loss=1.05]\n",
      "Epoch 9/100 [Test]: 100%|██████████| 91/91 [00:09<00:00,  9.18it/s, accuracy=0.579, loss=1.11] \n"
     ]
    },
    {
     "name": "stdout",
     "output_type": "stream",
     "text": [
      "Epoch 9/100, Train Loss: 1.0486, Train Accuracy: 0.5965, Test Loss: 1.1128, Test Accuracy: 0.5794\n"
     ]
    },
    {
     "name": "stderr",
     "output_type": "stream",
     "text": [
      "Epoch 10/100 [Training]: 100%|██████████| 363/363 [01:19<00:00,  4.57it/s, accuracy=0.6, loss=1.04]  \n",
      "Epoch 10/100 [Test]: 100%|██████████| 91/91 [00:09<00:00,  9.16it/s, accuracy=0.562, loss=1.17]\n"
     ]
    },
    {
     "name": "stdout",
     "output_type": "stream",
     "text": [
      "Epoch 10/100, Train Loss: 1.0422, Train Accuracy: 0.6002, Test Loss: 1.1667, Test Accuracy: 0.5617\n"
     ]
    },
    {
     "name": "stderr",
     "output_type": "stream",
     "text": [
      "Epoch 11/100 [Training]: 100%|██████████| 363/363 [01:19<00:00,  4.58it/s, accuracy=0.612, loss=1.02]\n",
      "Epoch 11/100 [Test]: 100%|██████████| 91/91 [00:10<00:00,  8.98it/s, accuracy=0.573, loss=1.12]\n"
     ]
    },
    {
     "name": "stdout",
     "output_type": "stream",
     "text": [
      "Epoch 11/100, Train Loss: 1.0216, Train Accuracy: 0.6116, Test Loss: 1.1177, Test Accuracy: 0.5727\n"
     ]
    },
    {
     "name": "stderr",
     "output_type": "stream",
     "text": [
      "Epoch 12/100 [Training]: 100%|██████████| 363/363 [01:19<00:00,  4.58it/s, accuracy=0.616, loss=1.01]\n",
      "Epoch 12/100 [Test]: 100%|██████████| 91/91 [00:10<00:00,  9.08it/s, accuracy=0.57, loss=1.14] \n"
     ]
    },
    {
     "name": "stdout",
     "output_type": "stream",
     "text": [
      "Epoch 12/100, Train Loss: 1.0077, Train Accuracy: 0.6164, Test Loss: 1.1421, Test Accuracy: 0.5696\n"
     ]
    },
    {
     "name": "stderr",
     "output_type": "stream",
     "text": [
      "Epoch 13/100 [Training]: 100%|██████████| 363/363 [01:19<00:00,  4.57it/s, accuracy=0.62, loss=1]     \n",
      "Epoch 13/100 [Test]: 100%|██████████| 91/91 [00:09<00:00,  9.16it/s, accuracy=0.598, loss=1.05] \n"
     ]
    },
    {
     "name": "stdout",
     "output_type": "stream",
     "text": [
      "Epoch 13/100, Train Loss: 1.0013, Train Accuracy: 0.6196, Test Loss: 1.0462, Test Accuracy: 0.5978\n"
     ]
    },
    {
     "name": "stderr",
     "output_type": "stream",
     "text": [
      "Epoch 14/100 [Training]: 100%|██████████| 363/363 [01:19<00:00,  4.57it/s, accuracy=0.624, loss=0.988]\n",
      "Epoch 14/100 [Test]: 100%|██████████| 91/91 [00:09<00:00,  9.21it/s, accuracy=0.602, loss=1.05]\n"
     ]
    },
    {
     "name": "stdout",
     "output_type": "stream",
     "text": [
      "Epoch 14/100, Train Loss: 0.9879, Train Accuracy: 0.6244, Test Loss: 1.0545, Test Accuracy: 0.6021\n"
     ]
    },
    {
     "name": "stderr",
     "output_type": "stream",
     "text": [
      "Epoch 15/100 [Training]: 100%|██████████| 363/363 [01:19<00:00,  4.58it/s, accuracy=0.63, loss=0.978] \n",
      "Epoch 15/100 [Test]: 100%|██████████| 91/91 [00:10<00:00,  9.01it/s, accuracy=0.624, loss=1.02] \n"
     ]
    },
    {
     "name": "stdout",
     "output_type": "stream",
     "text": [
      "Epoch 15/100, Train Loss: 0.9778, Train Accuracy: 0.6300, Test Loss: 1.0205, Test Accuracy: 0.6243\n"
     ]
    },
    {
     "name": "stderr",
     "output_type": "stream",
     "text": [
      "Epoch 16/100 [Training]: 100%|██████████| 363/363 [01:19<00:00,  4.57it/s, accuracy=0.636, loss=0.971]\n",
      "Epoch 16/100 [Test]: 100%|██████████| 91/91 [00:10<00:00,  9.05it/s, accuracy=0.596, loss=1.1]  \n"
     ]
    },
    {
     "name": "stdout",
     "output_type": "stream",
     "text": [
      "Epoch 16/100, Train Loss: 0.9706, Train Accuracy: 0.6364, Test Loss: 1.1010, Test Accuracy: 0.5959\n"
     ]
    },
    {
     "name": "stderr",
     "output_type": "stream",
     "text": [
      "Epoch 17/100 [Training]: 100%|██████████| 363/363 [01:19<00:00,  4.57it/s, accuracy=0.639, loss=0.966]\n",
      "Epoch 17/100 [Test]: 100%|██████████| 91/91 [00:09<00:00,  9.13it/s, accuracy=0.62, loss=0.996] \n"
     ]
    },
    {
     "name": "stdout",
     "output_type": "stream",
     "text": [
      "Epoch 17/100, Train Loss: 0.9659, Train Accuracy: 0.6388, Test Loss: 0.9965, Test Accuracy: 0.6202\n"
     ]
    },
    {
     "name": "stderr",
     "output_type": "stream",
     "text": [
      "Epoch 18/100 [Training]: 100%|██████████| 363/363 [01:19<00:00,  4.58it/s, accuracy=0.639, loss=0.957]\n",
      "Epoch 18/100 [Test]: 100%|██████████| 91/91 [00:10<00:00,  9.04it/s, accuracy=0.547, loss=1.21]\n"
     ]
    },
    {
     "name": "stdout",
     "output_type": "stream",
     "text": [
      "Epoch 18/100, Train Loss: 0.9569, Train Accuracy: 0.6389, Test Loss: 1.2114, Test Accuracy: 0.5470\n"
     ]
    },
    {
     "name": "stderr",
     "output_type": "stream",
     "text": [
      "Epoch 19/100 [Training]: 100%|██████████| 363/363 [01:19<00:00,  4.59it/s, accuracy=0.644, loss=0.951]\n",
      "Epoch 19/100 [Test]: 100%|██████████| 91/91 [00:10<00:00,  9.07it/s, accuracy=0.577, loss=1.14] \n"
     ]
    },
    {
     "name": "stdout",
     "output_type": "stream",
     "text": [
      "Epoch 19/100, Train Loss: 0.9509, Train Accuracy: 0.6444, Test Loss: 1.1422, Test Accuracy: 0.5773\n"
     ]
    },
    {
     "name": "stderr",
     "output_type": "stream",
     "text": [
      "Epoch 20/100 [Training]: 100%|██████████| 363/363 [01:19<00:00,  4.58it/s, accuracy=0.642, loss=0.947]\n",
      "Epoch 20/100 [Test]: 100%|██████████| 91/91 [00:09<00:00,  9.15it/s, accuracy=0.574, loss=1.14]\n"
     ]
    },
    {
     "name": "stdout",
     "output_type": "stream",
     "text": [
      "Epoch 20/100, Train Loss: 0.9472, Train Accuracy: 0.6417, Test Loss: 1.1418, Test Accuracy: 0.5741\n"
     ]
    },
    {
     "name": "stderr",
     "output_type": "stream",
     "text": [
      "Epoch 21/100 [Training]: 100%|██████████| 363/363 [01:19<00:00,  4.57it/s, accuracy=0.645, loss=0.944]\n",
      "Epoch 21/100 [Test]: 100%|██████████| 91/91 [00:09<00:00,  9.14it/s, accuracy=0.636, loss=0.956]\n"
     ]
    },
    {
     "name": "stdout",
     "output_type": "stream",
     "text": [
      "Epoch 21/100, Train Loss: 0.9445, Train Accuracy: 0.6454, Test Loss: 0.9560, Test Accuracy: 0.6360\n"
     ]
    },
    {
     "name": "stderr",
     "output_type": "stream",
     "text": [
      "Epoch 22/100 [Training]: 100%|██████████| 363/363 [01:18<00:00,  4.61it/s, accuracy=0.651, loss=0.938]\n",
      "Epoch 22/100 [Test]: 100%|██████████| 91/91 [00:09<00:00,  9.16it/s, accuracy=0.634, loss=1.01]\n"
     ]
    },
    {
     "name": "stdout",
     "output_type": "stream",
     "text": [
      "Epoch 22/100, Train Loss: 0.9381, Train Accuracy: 0.6506, Test Loss: 1.0059, Test Accuracy: 0.6338\n"
     ]
    },
    {
     "name": "stderr",
     "output_type": "stream",
     "text": [
      "Epoch 23/100 [Training]: 100%|██████████| 363/363 [01:18<00:00,  4.60it/s, accuracy=0.651, loss=0.935]\n",
      "Epoch 23/100 [Test]: 100%|██████████| 91/91 [00:10<00:00,  9.09it/s, accuracy=0.643, loss=0.957]\n"
     ]
    },
    {
     "name": "stdout",
     "output_type": "stream",
     "text": [
      "Epoch 23/100, Train Loss: 0.9354, Train Accuracy: 0.6508, Test Loss: 0.9566, Test Accuracy: 0.6429\n"
     ]
    },
    {
     "name": "stderr",
     "output_type": "stream",
     "text": [
      "Epoch 24/100 [Training]: 100%|██████████| 363/363 [01:18<00:00,  4.60it/s, accuracy=0.654, loss=0.93] \n",
      "Epoch 24/100 [Test]: 100%|██████████| 91/91 [00:10<00:00,  9.06it/s, accuracy=0.641, loss=0.961]\n"
     ]
    },
    {
     "name": "stdout",
     "output_type": "stream",
     "text": [
      "Epoch 24/100, Train Loss: 0.9302, Train Accuracy: 0.6537, Test Loss: 0.9610, Test Accuracy: 0.6408\n"
     ]
    },
    {
     "name": "stderr",
     "output_type": "stream",
     "text": [
      "Epoch 25/100 [Training]: 100%|██████████| 363/363 [01:18<00:00,  4.61it/s, accuracy=0.661, loss=0.923]\n",
      "Epoch 25/100 [Test]: 100%|██████████| 91/91 [00:10<00:00,  9.03it/s, accuracy=0.661, loss=0.926]\n"
     ]
    },
    {
     "name": "stdout",
     "output_type": "stream",
     "text": [
      "Epoch 25/100, Train Loss: 0.9226, Train Accuracy: 0.6612, Test Loss: 0.9261, Test Accuracy: 0.6606\n"
     ]
    },
    {
     "name": "stderr",
     "output_type": "stream",
     "text": [
      "Epoch 26/100 [Training]: 100%|██████████| 363/363 [01:18<00:00,  4.61it/s, accuracy=0.662, loss=0.92] \n",
      "Epoch 26/100 [Test]: 100%|██████████| 91/91 [00:09<00:00,  9.12it/s, accuracy=0.656, loss=0.931]\n"
     ]
    },
    {
     "name": "stdout",
     "output_type": "stream",
     "text": [
      "Epoch 26/100, Train Loss: 0.9197, Train Accuracy: 0.6617, Test Loss: 0.9314, Test Accuracy: 0.6565\n"
     ]
    },
    {
     "name": "stderr",
     "output_type": "stream",
     "text": [
      "Epoch 27/100 [Training]: 100%|██████████| 363/363 [01:18<00:00,  4.60it/s, accuracy=0.663, loss=0.921]\n",
      "Epoch 27/100 [Test]: 100%|██████████| 91/91 [00:10<00:00,  9.07it/s, accuracy=0.665, loss=0.919]\n"
     ]
    },
    {
     "name": "stdout",
     "output_type": "stream",
     "text": [
      "Epoch 27/100, Train Loss: 0.9208, Train Accuracy: 0.6630, Test Loss: 0.9187, Test Accuracy: 0.6649\n"
     ]
    },
    {
     "name": "stderr",
     "output_type": "stream",
     "text": [
      "Epoch 28/100 [Training]: 100%|██████████| 363/363 [01:18<00:00,  4.60it/s, accuracy=0.666, loss=0.922]\n",
      "Epoch 28/100 [Test]: 100%|██████████| 91/91 [00:10<00:00,  9.02it/s, accuracy=0.653, loss=0.936]\n"
     ]
    },
    {
     "name": "stdout",
     "output_type": "stream",
     "text": [
      "Epoch 28/100, Train Loss: 0.9218, Train Accuracy: 0.6658, Test Loss: 0.9356, Test Accuracy: 0.6525\n"
     ]
    },
    {
     "name": "stderr",
     "output_type": "stream",
     "text": [
      "Epoch 29/100 [Training]: 100%|██████████| 363/363 [01:18<00:00,  4.60it/s, accuracy=0.667, loss=0.92] \n",
      "Epoch 29/100 [Test]: 100%|██████████| 91/91 [00:09<00:00,  9.17it/s, accuracy=0.633, loss=0.971]\n"
     ]
    },
    {
     "name": "stdout",
     "output_type": "stream",
     "text": [
      "Epoch 29/100, Train Loss: 0.9201, Train Accuracy: 0.6673, Test Loss: 0.9715, Test Accuracy: 0.6325\n"
     ]
    },
    {
     "name": "stderr",
     "output_type": "stream",
     "text": [
      "Epoch 30/100 [Training]: 100%|██████████| 363/363 [01:18<00:00,  4.60it/s, accuracy=0.671, loss=0.919]\n",
      "Epoch 30/100 [Test]: 100%|██████████| 91/91 [00:10<00:00,  9.06it/s, accuracy=0.631, loss=0.959]\n"
     ]
    },
    {
     "name": "stdout",
     "output_type": "stream",
     "text": [
      "Epoch 30/100, Train Loss: 0.9186, Train Accuracy: 0.6708, Test Loss: 0.9592, Test Accuracy: 0.6307\n"
     ]
    },
    {
     "name": "stderr",
     "output_type": "stream",
     "text": [
      "Epoch 31/100 [Training]: 100%|██████████| 363/363 [01:18<00:00,  4.61it/s, accuracy=0.667, loss=0.923]\n",
      "Epoch 31/100 [Test]: 100%|██████████| 91/91 [00:09<00:00,  9.14it/s, accuracy=0.65, loss=0.943] \n"
     ]
    },
    {
     "name": "stdout",
     "output_type": "stream",
     "text": [
      "Epoch 31/100, Train Loss: 0.9228, Train Accuracy: 0.6666, Test Loss: 0.9430, Test Accuracy: 0.6501\n"
     ]
    },
    {
     "name": "stderr",
     "output_type": "stream",
     "text": [
      "Epoch 32/100 [Training]: 100%|██████████| 363/363 [01:18<00:00,  4.61it/s, accuracy=0.67, loss=0.921] \n",
      "Epoch 32/100 [Test]: 100%|██████████| 91/91 [00:09<00:00,  9.11it/s, accuracy=0.668, loss=0.916]\n"
     ]
    },
    {
     "name": "stdout",
     "output_type": "stream",
     "text": [
      "Epoch 32/100, Train Loss: 0.9211, Train Accuracy: 0.6703, Test Loss: 0.9162, Test Accuracy: 0.6680\n"
     ]
    },
    {
     "name": "stderr",
     "output_type": "stream",
     "text": [
      "Epoch 33/100 [Training]: 100%|██████████| 363/363 [01:18<00:00,  4.62it/s, accuracy=0.672, loss=0.918]\n",
      "Epoch 33/100 [Test]: 100%|██████████| 91/91 [00:09<00:00,  9.16it/s, accuracy=0.669, loss=0.912]\n"
     ]
    },
    {
     "name": "stdout",
     "output_type": "stream",
     "text": [
      "Epoch 33/100, Train Loss: 0.9178, Train Accuracy: 0.6717, Test Loss: 0.9117, Test Accuracy: 0.6694\n"
     ]
    },
    {
     "name": "stderr",
     "output_type": "stream",
     "text": [
      "Epoch 34/100 [Training]: 100%|██████████| 363/363 [01:18<00:00,  4.60it/s, accuracy=0.671, loss=0.918]\n",
      "Epoch 34/100 [Test]: 100%|██████████| 91/91 [00:09<00:00,  9.13it/s, accuracy=0.664, loss=0.919]\n"
     ]
    },
    {
     "name": "stdout",
     "output_type": "stream",
     "text": [
      "Epoch 34/100, Train Loss: 0.9179, Train Accuracy: 0.6713, Test Loss: 0.9192, Test Accuracy: 0.6639\n"
     ]
    },
    {
     "name": "stderr",
     "output_type": "stream",
     "text": [
      "Epoch 35/100 [Training]: 100%|██████████| 363/363 [01:18<00:00,  4.61it/s, accuracy=0.676, loss=0.91] \n",
      "Epoch 35/100 [Test]: 100%|██████████| 91/91 [00:10<00:00,  8.73it/s, accuracy=0.645, loss=0.952]\n"
     ]
    },
    {
     "name": "stdout",
     "output_type": "stream",
     "text": [
      "Epoch 35/100, Train Loss: 0.9103, Train Accuracy: 0.6760, Test Loss: 0.9523, Test Accuracy: 0.6454\n"
     ]
    },
    {
     "name": "stderr",
     "output_type": "stream",
     "text": [
      "Epoch 36/100 [Training]: 100%|██████████| 363/363 [01:19<00:00,  4.58it/s, accuracy=0.677, loss=0.908]\n",
      "Epoch 36/100 [Test]: 100%|██████████| 91/91 [00:10<00:00,  8.94it/s, accuracy=0.657, loss=0.925]\n"
     ]
    },
    {
     "name": "stdout",
     "output_type": "stream",
     "text": [
      "Epoch 36/100, Train Loss: 0.9079, Train Accuracy: 0.6774, Test Loss: 0.9252, Test Accuracy: 0.6570\n"
     ]
    },
    {
     "name": "stderr",
     "output_type": "stream",
     "text": [
      "Epoch 37/100 [Training]: 100%|██████████| 363/363 [01:18<00:00,  4.61it/s, accuracy=0.68, loss=0.906] \n",
      "Epoch 37/100 [Test]: 100%|██████████| 91/91 [00:09<00:00,  9.18it/s, accuracy=0.658, loss=0.941]\n"
     ]
    },
    {
     "name": "stdout",
     "output_type": "stream",
     "text": [
      "Epoch 37/100, Train Loss: 0.9059, Train Accuracy: 0.6798, Test Loss: 0.9408, Test Accuracy: 0.6577\n"
     ]
    },
    {
     "name": "stderr",
     "output_type": "stream",
     "text": [
      "Epoch 38/100 [Training]: 100%|██████████| 363/363 [01:18<00:00,  4.62it/s, accuracy=0.68, loss=0.9]   \n",
      "Epoch 38/100 [Test]: 100%|██████████| 91/91 [00:09<00:00,  9.13it/s, accuracy=0.668, loss=0.893]\n"
     ]
    },
    {
     "name": "stdout",
     "output_type": "stream",
     "text": [
      "Epoch 38/100, Train Loss: 0.8999, Train Accuracy: 0.6800, Test Loss: 0.8928, Test Accuracy: 0.6676\n"
     ]
    },
    {
     "name": "stderr",
     "output_type": "stream",
     "text": [
      "Epoch 39/100 [Training]: 100%|██████████| 363/363 [01:18<00:00,  4.61it/s, accuracy=0.681, loss=0.894]\n",
      "Epoch 39/100 [Test]: 100%|██████████| 91/91 [00:10<00:00,  9.07it/s, accuracy=0.673, loss=0.887]\n"
     ]
    },
    {
     "name": "stdout",
     "output_type": "stream",
     "text": [
      "Epoch 39/100, Train Loss: 0.8942, Train Accuracy: 0.6809, Test Loss: 0.8872, Test Accuracy: 0.6735\n"
     ]
    },
    {
     "name": "stderr",
     "output_type": "stream",
     "text": [
      "Epoch 40/100 [Training]: 100%|██████████| 363/363 [01:18<00:00,  4.60it/s, accuracy=0.682, loss=0.886]\n",
      "Epoch 40/100 [Test]: 100%|██████████| 91/91 [00:09<00:00,  9.11it/s, accuracy=0.652, loss=0.937]\n"
     ]
    },
    {
     "name": "stdout",
     "output_type": "stream",
     "text": [
      "Epoch 40/100, Train Loss: 0.8857, Train Accuracy: 0.6818, Test Loss: 0.9375, Test Accuracy: 0.6520\n"
     ]
    },
    {
     "name": "stderr",
     "output_type": "stream",
     "text": [
      "Epoch 41/100 [Training]: 100%|██████████| 363/363 [01:18<00:00,  4.61it/s, accuracy=0.686, loss=0.884]\n",
      "Epoch 41/100 [Test]: 100%|██████████| 91/91 [00:10<00:00,  9.02it/s, accuracy=0.664, loss=0.927]\n"
     ]
    },
    {
     "name": "stdout",
     "output_type": "stream",
     "text": [
      "Epoch 41/100, Train Loss: 0.8845, Train Accuracy: 0.6863, Test Loss: 0.9275, Test Accuracy: 0.6635\n"
     ]
    },
    {
     "name": "stderr",
     "output_type": "stream",
     "text": [
      "Epoch 42/100 [Training]: 100%|██████████| 363/363 [01:18<00:00,  4.61it/s, accuracy=0.69, loss=0.879] \n",
      "Epoch 42/100 [Test]: 100%|██████████| 91/91 [00:09<00:00,  9.22it/s, accuracy=0.687, loss=0.876]\n"
     ]
    },
    {
     "name": "stdout",
     "output_type": "stream",
     "text": [
      "Epoch 42/100, Train Loss: 0.8792, Train Accuracy: 0.6898, Test Loss: 0.8756, Test Accuracy: 0.6866\n"
     ]
    },
    {
     "name": "stderr",
     "output_type": "stream",
     "text": [
      "Epoch 43/100 [Training]: 100%|██████████| 363/363 [01:18<00:00,  4.61it/s, accuracy=0.686, loss=0.886]\n",
      "Epoch 43/100 [Test]: 100%|██████████| 91/91 [00:10<00:00,  9.04it/s, accuracy=0.672, loss=0.885]\n"
     ]
    },
    {
     "name": "stdout",
     "output_type": "stream",
     "text": [
      "Epoch 43/100, Train Loss: 0.8864, Train Accuracy: 0.6858, Test Loss: 0.8854, Test Accuracy: 0.6721\n"
     ]
    },
    {
     "name": "stderr",
     "output_type": "stream",
     "text": [
      "Epoch 44/100 [Training]: 100%|██████████| 363/363 [01:18<00:00,  4.60it/s, accuracy=0.692, loss=0.869]\n",
      "Epoch 44/100 [Test]: 100%|██████████| 91/91 [00:10<00:00,  9.03it/s, accuracy=0.689, loss=0.867]\n"
     ]
    },
    {
     "name": "stdout",
     "output_type": "stream",
     "text": [
      "Epoch 44/100, Train Loss: 0.8693, Train Accuracy: 0.6916, Test Loss: 0.8671, Test Accuracy: 0.6891\n"
     ]
    },
    {
     "name": "stderr",
     "output_type": "stream",
     "text": [
      "Epoch 45/100 [Training]: 100%|██████████| 363/363 [01:19<00:00,  4.59it/s, accuracy=0.692, loss=0.871]\n",
      "Epoch 45/100 [Test]: 100%|██████████| 91/91 [00:10<00:00,  8.86it/s, accuracy=0.685, loss=0.874]\n"
     ]
    },
    {
     "name": "stdout",
     "output_type": "stream",
     "text": [
      "Epoch 45/100, Train Loss: 0.8707, Train Accuracy: 0.6917, Test Loss: 0.8743, Test Accuracy: 0.6847\n"
     ]
    },
    {
     "name": "stderr",
     "output_type": "stream",
     "text": [
      "Epoch 46/100 [Training]: 100%|██████████| 363/363 [01:19<00:00,  4.59it/s, accuracy=0.695, loss=0.866]\n",
      "Epoch 46/100 [Test]: 100%|██████████| 91/91 [00:10<00:00,  9.07it/s, accuracy=0.682, loss=0.881]\n"
     ]
    },
    {
     "name": "stdout",
     "output_type": "stream",
     "text": [
      "Epoch 46/100, Train Loss: 0.8663, Train Accuracy: 0.6952, Test Loss: 0.8810, Test Accuracy: 0.6819\n"
     ]
    },
    {
     "name": "stderr",
     "output_type": "stream",
     "text": [
      "Epoch 47/100 [Training]: 100%|██████████| 363/363 [01:18<00:00,  4.60it/s, accuracy=0.693, loss=0.865]\n",
      "Epoch 47/100 [Test]: 100%|██████████| 91/91 [00:10<00:00,  9.10it/s, accuracy=0.671, loss=0.891]\n"
     ]
    },
    {
     "name": "stdout",
     "output_type": "stream",
     "text": [
      "Epoch 47/100, Train Loss: 0.8652, Train Accuracy: 0.6931, Test Loss: 0.8912, Test Accuracy: 0.6713\n"
     ]
    },
    {
     "name": "stderr",
     "output_type": "stream",
     "text": [
      "Epoch 48/100 [Training]: 100%|██████████| 363/363 [01:18<00:00,  4.61it/s, accuracy=0.697, loss=0.856]\n",
      "Epoch 48/100 [Test]: 100%|██████████| 91/91 [00:10<00:00,  9.09it/s, accuracy=0.661, loss=0.921]\n"
     ]
    },
    {
     "name": "stdout",
     "output_type": "stream",
     "text": [
      "Epoch 48/100, Train Loss: 0.8561, Train Accuracy: 0.6965, Test Loss: 0.9212, Test Accuracy: 0.6608\n"
     ]
    },
    {
     "name": "stderr",
     "output_type": "stream",
     "text": [
      "Epoch 49/100 [Training]: 100%|██████████| 363/363 [01:18<00:00,  4.61it/s, accuracy=0.698, loss=0.859]\n",
      "Epoch 49/100 [Test]: 100%|██████████| 91/91 [00:10<00:00,  9.09it/s, accuracy=0.687, loss=0.852]\n"
     ]
    },
    {
     "name": "stdout",
     "output_type": "stream",
     "text": [
      "Epoch 49/100, Train Loss: 0.8586, Train Accuracy: 0.6980, Test Loss: 0.8516, Test Accuracy: 0.6873\n"
     ]
    },
    {
     "name": "stderr",
     "output_type": "stream",
     "text": [
      "Epoch 50/100 [Training]: 100%|██████████| 363/363 [01:18<00:00,  4.62it/s, accuracy=0.695, loss=0.855]\n",
      "Epoch 50/100 [Test]: 100%|██████████| 91/91 [00:10<00:00,  8.99it/s, accuracy=0.692, loss=0.859]\n"
     ]
    },
    {
     "name": "stdout",
     "output_type": "stream",
     "text": [
      "Epoch 50/100, Train Loss: 0.8552, Train Accuracy: 0.6954, Test Loss: 0.8590, Test Accuracy: 0.6919\n"
     ]
    },
    {
     "name": "stderr",
     "output_type": "stream",
     "text": [
      "Epoch 51/100 [Training]: 100%|██████████| 363/363 [01:18<00:00,  4.61it/s, accuracy=0.699, loss=0.852]\n",
      "Epoch 51/100 [Test]: 100%|██████████| 91/91 [00:09<00:00,  9.13it/s, accuracy=0.673, loss=0.89] \n"
     ]
    },
    {
     "name": "stdout",
     "output_type": "stream",
     "text": [
      "Epoch 51/100, Train Loss: 0.8520, Train Accuracy: 0.6989, Test Loss: 0.8904, Test Accuracy: 0.6728\n"
     ]
    },
    {
     "name": "stderr",
     "output_type": "stream",
     "text": [
      "Epoch 52/100 [Training]: 100%|██████████| 363/363 [01:19<00:00,  4.59it/s, accuracy=0.696, loss=0.852]\n",
      "Epoch 52/100 [Test]: 100%|██████████| 91/91 [00:10<00:00,  8.88it/s, accuracy=0.696, loss=0.852]\n"
     ]
    },
    {
     "name": "stdout",
     "output_type": "stream",
     "text": [
      "Epoch 52/100, Train Loss: 0.8523, Train Accuracy: 0.6958, Test Loss: 0.8522, Test Accuracy: 0.6960\n"
     ]
    },
    {
     "name": "stderr",
     "output_type": "stream",
     "text": [
      "Epoch 53/100 [Training]: 100%|██████████| 363/363 [01:19<00:00,  4.58it/s, accuracy=0.7, loss=0.849]  \n",
      "Epoch 53/100 [Test]: 100%|██████████| 91/91 [00:10<00:00,  9.08it/s, accuracy=0.673, loss=0.872]\n"
     ]
    },
    {
     "name": "stdout",
     "output_type": "stream",
     "text": [
      "Epoch 53/100, Train Loss: 0.8487, Train Accuracy: 0.6997, Test Loss: 0.8724, Test Accuracy: 0.6726\n"
     ]
    },
    {
     "name": "stderr",
     "output_type": "stream",
     "text": [
      "Epoch 54/100 [Training]: 100%|██████████| 363/363 [01:18<00:00,  4.62it/s, accuracy=0.703, loss=0.842]\n",
      "Epoch 54/100 [Test]: 100%|██████████| 91/91 [00:10<00:00,  9.06it/s, accuracy=0.674, loss=0.886]\n"
     ]
    },
    {
     "name": "stdout",
     "output_type": "stream",
     "text": [
      "Epoch 54/100, Train Loss: 0.8420, Train Accuracy: 0.7030, Test Loss: 0.8856, Test Accuracy: 0.6740\n"
     ]
    },
    {
     "name": "stderr",
     "output_type": "stream",
     "text": [
      "Epoch 55/100 [Training]: 100%|██████████| 363/363 [01:18<00:00,  4.61it/s, accuracy=0.702, loss=0.845]\n",
      "Epoch 55/100 [Test]: 100%|██████████| 91/91 [00:09<00:00,  9.13it/s, accuracy=0.653, loss=0.937]\n"
     ]
    },
    {
     "name": "stdout",
     "output_type": "stream",
     "text": [
      "Epoch 55/100, Train Loss: 0.8450, Train Accuracy: 0.7021, Test Loss: 0.9373, Test Accuracy: 0.6534\n"
     ]
    },
    {
     "name": "stderr",
     "output_type": "stream",
     "text": [
      "Epoch 56/100 [Training]: 100%|██████████| 363/363 [01:18<00:00,  4.61it/s, accuracy=0.705, loss=0.837]\n",
      "Epoch 56/100 [Test]: 100%|██████████| 91/91 [00:10<00:00,  9.08it/s, accuracy=0.685, loss=0.862]\n"
     ]
    },
    {
     "name": "stdout",
     "output_type": "stream",
     "text": [
      "Epoch 56/100, Train Loss: 0.8374, Train Accuracy: 0.7053, Test Loss: 0.8620, Test Accuracy: 0.6850\n"
     ]
    },
    {
     "name": "stderr",
     "output_type": "stream",
     "text": [
      "Epoch 57/100 [Training]: 100%|██████████| 363/363 [01:18<00:00,  4.61it/s, accuracy=0.706, loss=0.834]\n",
      "Epoch 57/100 [Test]: 100%|██████████| 91/91 [00:09<00:00,  9.17it/s, accuracy=0.693, loss=0.849]\n"
     ]
    },
    {
     "name": "stdout",
     "output_type": "stream",
     "text": [
      "Epoch 57/100, Train Loss: 0.8345, Train Accuracy: 0.7064, Test Loss: 0.8486, Test Accuracy: 0.6934\n"
     ]
    },
    {
     "name": "stderr",
     "output_type": "stream",
     "text": [
      "Epoch 58/100 [Training]: 100%|██████████| 363/363 [01:18<00:00,  4.61it/s, accuracy=0.707, loss=0.833]\n",
      "Epoch 58/100 [Test]: 100%|██████████| 91/91 [00:09<00:00,  9.17it/s, accuracy=0.681, loss=0.87] \n"
     ]
    },
    {
     "name": "stdout",
     "output_type": "stream",
     "text": [
      "Epoch 58/100, Train Loss: 0.8327, Train Accuracy: 0.7067, Test Loss: 0.8703, Test Accuracy: 0.6812\n"
     ]
    },
    {
     "name": "stderr",
     "output_type": "stream",
     "text": [
      "Epoch 59/100 [Training]: 100%|██████████| 363/363 [01:19<00:00,  4.56it/s, accuracy=0.709, loss=0.828]\n",
      "Epoch 59/100 [Test]: 100%|██████████| 91/91 [00:10<00:00,  9.08it/s, accuracy=0.693, loss=0.854]\n"
     ]
    },
    {
     "name": "stdout",
     "output_type": "stream",
     "text": [
      "Epoch 59/100, Train Loss: 0.8282, Train Accuracy: 0.7092, Test Loss: 0.8539, Test Accuracy: 0.6926\n"
     ]
    },
    {
     "name": "stderr",
     "output_type": "stream",
     "text": [
      "Epoch 60/100 [Training]: 100%|██████████| 363/363 [01:19<00:00,  4.54it/s, accuracy=0.707, loss=0.828]\n",
      "Epoch 60/100 [Test]: 100%|██████████| 91/91 [00:09<00:00,  9.11it/s, accuracy=0.676, loss=0.887]\n"
     ]
    },
    {
     "name": "stdout",
     "output_type": "stream",
     "text": [
      "Epoch 60/100, Train Loss: 0.8283, Train Accuracy: 0.7073, Test Loss: 0.8866, Test Accuracy: 0.6756\n"
     ]
    },
    {
     "name": "stderr",
     "output_type": "stream",
     "text": [
      "Epoch 61/100 [Training]: 100%|██████████| 363/363 [01:19<00:00,  4.58it/s, accuracy=0.707, loss=0.824]\n",
      "Epoch 61/100 [Test]: 100%|██████████| 91/91 [00:10<00:00,  9.07it/s, accuracy=0.7, loss=0.836]  \n"
     ]
    },
    {
     "name": "stdout",
     "output_type": "stream",
     "text": [
      "Epoch 61/100, Train Loss: 0.8244, Train Accuracy: 0.7071, Test Loss: 0.8359, Test Accuracy: 0.7005\n"
     ]
    },
    {
     "name": "stderr",
     "output_type": "stream",
     "text": [
      "Epoch 62/100 [Training]: 100%|██████████| 363/363 [01:18<00:00,  4.60it/s, accuracy=0.71, loss=0.825] \n",
      "Epoch 62/100 [Test]: 100%|██████████| 91/91 [00:10<00:00,  9.09it/s, accuracy=0.683, loss=0.864]\n"
     ]
    },
    {
     "name": "stdout",
     "output_type": "stream",
     "text": [
      "Epoch 62/100, Train Loss: 0.8253, Train Accuracy: 0.7096, Test Loss: 0.8635, Test Accuracy: 0.6831\n"
     ]
    },
    {
     "name": "stderr",
     "output_type": "stream",
     "text": [
      "Epoch 63/100 [Training]: 100%|██████████| 363/363 [01:18<00:00,  4.61it/s, accuracy=0.715, loss=0.818]\n",
      "Epoch 63/100 [Test]: 100%|██████████| 91/91 [00:10<00:00,  9.10it/s, accuracy=0.691, loss=0.86] \n"
     ]
    },
    {
     "name": "stdout",
     "output_type": "stream",
     "text": [
      "Epoch 63/100, Train Loss: 0.8176, Train Accuracy: 0.7148, Test Loss: 0.8604, Test Accuracy: 0.6907\n"
     ]
    },
    {
     "name": "stderr",
     "output_type": "stream",
     "text": [
      "Epoch 64/100 [Training]: 100%|██████████| 363/363 [01:18<00:00,  4.60it/s, accuracy=0.714, loss=0.818]\n",
      "Epoch 64/100 [Test]: 100%|██████████| 91/91 [00:10<00:00,  9.08it/s, accuracy=0.691, loss=0.852]\n"
     ]
    },
    {
     "name": "stdout",
     "output_type": "stream",
     "text": [
      "Epoch 64/100, Train Loss: 0.8178, Train Accuracy: 0.7143, Test Loss: 0.8516, Test Accuracy: 0.6905\n"
     ]
    },
    {
     "name": "stderr",
     "output_type": "stream",
     "text": [
      "Epoch 65/100 [Training]: 100%|██████████| 363/363 [01:18<00:00,  4.61it/s, accuracy=0.715, loss=0.812]\n",
      "Epoch 65/100 [Test]: 100%|██████████| 91/91 [00:09<00:00,  9.17it/s, accuracy=0.692, loss=0.841]\n"
     ]
    },
    {
     "name": "stdout",
     "output_type": "stream",
     "text": [
      "Epoch 65/100, Train Loss: 0.8125, Train Accuracy: 0.7154, Test Loss: 0.8405, Test Accuracy: 0.6916\n"
     ]
    },
    {
     "name": "stderr",
     "output_type": "stream",
     "text": [
      "Epoch 66/100 [Training]: 100%|██████████| 363/363 [01:18<00:00,  4.61it/s, accuracy=0.716, loss=0.808]\n",
      "Epoch 66/100 [Test]: 100%|██████████| 91/91 [00:09<00:00,  9.15it/s, accuracy=0.691, loss=0.85] \n"
     ]
    },
    {
     "name": "stdout",
     "output_type": "stream",
     "text": [
      "Epoch 66/100, Train Loss: 0.8082, Train Accuracy: 0.7164, Test Loss: 0.8504, Test Accuracy: 0.6910\n"
     ]
    },
    {
     "name": "stderr",
     "output_type": "stream",
     "text": [
      "Epoch 67/100 [Training]: 100%|██████████| 363/363 [01:18<00:00,  4.60it/s, accuracy=0.722, loss=0.801]\n",
      "Epoch 67/100 [Test]: 100%|██████████| 91/91 [00:10<00:00,  9.06it/s, accuracy=0.681, loss=0.866]\n"
     ]
    },
    {
     "name": "stdout",
     "output_type": "stream",
     "text": [
      "Epoch 67/100, Train Loss: 0.8013, Train Accuracy: 0.7220, Test Loss: 0.8665, Test Accuracy: 0.6811\n"
     ]
    },
    {
     "name": "stderr",
     "output_type": "stream",
     "text": [
      "Epoch 68/100 [Training]: 100%|██████████| 363/363 [01:18<00:00,  4.62it/s, accuracy=0.721, loss=0.803]\n",
      "Epoch 68/100 [Test]: 100%|██████████| 91/91 [00:10<00:00,  9.00it/s, accuracy=0.705, loss=0.821]\n"
     ]
    },
    {
     "name": "stdout",
     "output_type": "stream",
     "text": [
      "Epoch 68/100, Train Loss: 0.8028, Train Accuracy: 0.7213, Test Loss: 0.8210, Test Accuracy: 0.7053\n"
     ]
    },
    {
     "name": "stderr",
     "output_type": "stream",
     "text": [
      "Epoch 69/100 [Training]: 100%|██████████| 363/363 [01:19<00:00,  4.56it/s, accuracy=0.721, loss=0.801]\n",
      "Epoch 69/100 [Test]: 100%|██████████| 91/91 [00:10<00:00,  9.09it/s, accuracy=0.694, loss=0.849]\n"
     ]
    },
    {
     "name": "stdout",
     "output_type": "stream",
     "text": [
      "Epoch 69/100, Train Loss: 0.8012, Train Accuracy: 0.7207, Test Loss: 0.8492, Test Accuracy: 0.6945\n"
     ]
    },
    {
     "name": "stderr",
     "output_type": "stream",
     "text": [
      "Epoch 70/100 [Training]: 100%|██████████| 363/363 [01:18<00:00,  4.61it/s, accuracy=0.718, loss=0.805]\n",
      "Epoch 70/100 [Test]: 100%|██████████| 91/91 [00:10<00:00,  9.07it/s, accuracy=0.694, loss=0.851]\n"
     ]
    },
    {
     "name": "stdout",
     "output_type": "stream",
     "text": [
      "Epoch 70/100, Train Loss: 0.8048, Train Accuracy: 0.7181, Test Loss: 0.8507, Test Accuracy: 0.6941\n"
     ]
    },
    {
     "name": "stderr",
     "output_type": "stream",
     "text": [
      "Epoch 71/100 [Training]: 100%|██████████| 363/363 [01:18<00:00,  4.61it/s, accuracy=0.718, loss=0.803]\n",
      "Epoch 71/100 [Test]: 100%|██████████| 91/91 [00:09<00:00,  9.15it/s, accuracy=0.704, loss=0.825]\n"
     ]
    },
    {
     "name": "stdout",
     "output_type": "stream",
     "text": [
      "Epoch 71/100, Train Loss: 0.8031, Train Accuracy: 0.7182, Test Loss: 0.8254, Test Accuracy: 0.7038\n"
     ]
    },
    {
     "name": "stderr",
     "output_type": "stream",
     "text": [
      "Epoch 72/100 [Training]: 100%|██████████| 363/363 [01:18<00:00,  4.60it/s, accuracy=0.72, loss=0.799] \n",
      "Epoch 72/100 [Test]: 100%|██████████| 91/91 [00:19<00:00,  4.78it/s, accuracy=0.693, loss=0.848]\n"
     ]
    },
    {
     "name": "stdout",
     "output_type": "stream",
     "text": [
      "Epoch 72/100, Train Loss: 0.7991, Train Accuracy: 0.7204, Test Loss: 0.8480, Test Accuracy: 0.6933\n"
     ]
    },
    {
     "name": "stderr",
     "output_type": "stream",
     "text": [
      "Epoch 73/100 [Training]: 100%|██████████| 363/363 [01:19<00:00,  4.59it/s, accuracy=0.72, loss=0.797] \n",
      "Epoch 73/100 [Test]: 100%|██████████| 91/91 [00:10<00:00,  9.07it/s, accuracy=0.683, loss=0.87] \n"
     ]
    },
    {
     "name": "stdout",
     "output_type": "stream",
     "text": [
      "Epoch 73/100, Train Loss: 0.7966, Train Accuracy: 0.7202, Test Loss: 0.8695, Test Accuracy: 0.6831\n"
     ]
    },
    {
     "name": "stderr",
     "output_type": "stream",
     "text": [
      "Epoch 74/100 [Training]: 100%|██████████| 363/363 [01:18<00:00,  4.60it/s, accuracy=0.722, loss=0.797]\n",
      "Epoch 74/100 [Test]: 100%|██████████| 91/91 [00:10<00:00,  9.02it/s, accuracy=0.698, loss=0.836]\n"
     ]
    },
    {
     "name": "stdout",
     "output_type": "stream",
     "text": [
      "Epoch 74/100, Train Loss: 0.7971, Train Accuracy: 0.7220, Test Loss: 0.8363, Test Accuracy: 0.6979\n"
     ]
    },
    {
     "name": "stderr",
     "output_type": "stream",
     "text": [
      "Epoch 75/100 [Training]: 100%|██████████| 363/363 [01:18<00:00,  4.60it/s, accuracy=0.72, loss=0.795] \n",
      "Epoch 75/100 [Test]: 100%|██████████| 91/91 [00:09<00:00,  9.14it/s, accuracy=0.704, loss=0.826]\n"
     ]
    },
    {
     "name": "stdout",
     "output_type": "stream",
     "text": [
      "Epoch 75/100, Train Loss: 0.7948, Train Accuracy: 0.7200, Test Loss: 0.8263, Test Accuracy: 0.7039\n"
     ]
    },
    {
     "name": "stderr",
     "output_type": "stream",
     "text": [
      "Epoch 76/100 [Training]: 100%|██████████| 363/363 [01:18<00:00,  4.61it/s, accuracy=0.725, loss=0.79] \n",
      "Epoch 76/100 [Test]: 100%|██████████| 91/91 [00:09<00:00,  9.11it/s, accuracy=0.693, loss=0.843]\n"
     ]
    },
    {
     "name": "stdout",
     "output_type": "stream",
     "text": [
      "Epoch 76/100, Train Loss: 0.7902, Train Accuracy: 0.7250, Test Loss: 0.8431, Test Accuracy: 0.6934\n"
     ]
    },
    {
     "name": "stderr",
     "output_type": "stream",
     "text": [
      "Epoch 77/100 [Training]: 100%|██████████| 363/363 [01:18<00:00,  4.60it/s, accuracy=0.726, loss=0.792]\n",
      "Epoch 77/100 [Test]: 100%|██████████| 91/91 [00:09<00:00,  9.25it/s, accuracy=0.698, loss=0.836]\n"
     ]
    },
    {
     "name": "stdout",
     "output_type": "stream",
     "text": [
      "Epoch 77/100, Train Loss: 0.7918, Train Accuracy: 0.7258, Test Loss: 0.8358, Test Accuracy: 0.6983\n"
     ]
    },
    {
     "name": "stderr",
     "output_type": "stream",
     "text": [
      "Epoch 78/100 [Training]: 100%|██████████| 363/363 [01:18<00:00,  4.61it/s, accuracy=0.722, loss=0.794]\n",
      "Epoch 78/100 [Test]: 100%|██████████| 91/91 [00:09<00:00,  9.10it/s, accuracy=0.704, loss=0.822]\n"
     ]
    },
    {
     "name": "stdout",
     "output_type": "stream",
     "text": [
      "Epoch 78/100, Train Loss: 0.7936, Train Accuracy: 0.7221, Test Loss: 0.8221, Test Accuracy: 0.7036\n"
     ]
    },
    {
     "name": "stderr",
     "output_type": "stream",
     "text": [
      "Epoch 79/100 [Training]: 100%|██████████| 363/363 [01:18<00:00,  4.62it/s, accuracy=0.725, loss=0.79] \n",
      "Epoch 79/100 [Test]: 100%|██████████| 91/91 [00:09<00:00,  9.13it/s, accuracy=0.696, loss=0.826]\n"
     ]
    },
    {
     "name": "stdout",
     "output_type": "stream",
     "text": [
      "Epoch 79/100, Train Loss: 0.7899, Train Accuracy: 0.7254, Test Loss: 0.8264, Test Accuracy: 0.6957\n"
     ]
    },
    {
     "name": "stderr",
     "output_type": "stream",
     "text": [
      "Epoch 80/100 [Training]: 100%|██████████| 363/363 [01:18<00:00,  4.61it/s, accuracy=0.725, loss=0.789]\n",
      "Epoch 80/100 [Test]: 100%|██████████| 91/91 [00:09<00:00,  9.11it/s, accuracy=0.705, loss=0.824]\n"
     ]
    },
    {
     "name": "stdout",
     "output_type": "stream",
     "text": [
      "Epoch 80/100, Train Loss: 0.7885, Train Accuracy: 0.7252, Test Loss: 0.8241, Test Accuracy: 0.7051\n"
     ]
    },
    {
     "name": "stderr",
     "output_type": "stream",
     "text": [
      "Epoch 81/100 [Training]: 100%|██████████| 363/363 [01:18<00:00,  4.62it/s, accuracy=0.726, loss=0.786]\n",
      "Epoch 81/100 [Test]: 100%|██████████| 91/91 [00:09<00:00,  9.18it/s, accuracy=0.703, loss=0.823]\n"
     ]
    },
    {
     "name": "stdout",
     "output_type": "stream",
     "text": [
      "Epoch 81/100, Train Loss: 0.7861, Train Accuracy: 0.7259, Test Loss: 0.8226, Test Accuracy: 0.7026\n"
     ]
    },
    {
     "name": "stderr",
     "output_type": "stream",
     "text": [
      "Epoch 82/100 [Training]: 100%|██████████| 363/363 [01:18<00:00,  4.61it/s, accuracy=0.726, loss=0.783]\n",
      "Epoch 82/100 [Test]: 100%|██████████| 91/91 [00:10<00:00,  9.09it/s, accuracy=0.693, loss=0.842]\n"
     ]
    },
    {
     "name": "stdout",
     "output_type": "stream",
     "text": [
      "Epoch 82/100, Train Loss: 0.7830, Train Accuracy: 0.7265, Test Loss: 0.8422, Test Accuracy: 0.6928\n"
     ]
    },
    {
     "name": "stderr",
     "output_type": "stream",
     "text": [
      "Epoch 83/100 [Training]: 100%|██████████| 363/363 [01:18<00:00,  4.62it/s, accuracy=0.725, loss=0.782]\n",
      "Epoch 83/100 [Test]: 100%|██████████| 91/91 [00:10<00:00,  9.10it/s, accuracy=0.705, loss=0.825]\n"
     ]
    },
    {
     "name": "stdout",
     "output_type": "stream",
     "text": [
      "Epoch 83/100, Train Loss: 0.7819, Train Accuracy: 0.7246, Test Loss: 0.8249, Test Accuracy: 0.7048\n"
     ]
    },
    {
     "name": "stderr",
     "output_type": "stream",
     "text": [
      "Epoch 84/100 [Training]: 100%|██████████| 363/363 [01:18<00:00,  4.62it/s, accuracy=0.735, loss=0.776]\n",
      "Epoch 84/100 [Test]: 100%|██████████| 91/91 [00:09<00:00,  9.19it/s, accuracy=0.705, loss=0.82] \n"
     ]
    },
    {
     "name": "stdout",
     "output_type": "stream",
     "text": [
      "Epoch 84/100, Train Loss: 0.7761, Train Accuracy: 0.7354, Test Loss: 0.8205, Test Accuracy: 0.7046\n"
     ]
    },
    {
     "name": "stderr",
     "output_type": "stream",
     "text": [
      "Epoch 85/100 [Training]: 100%|██████████| 363/363 [01:18<00:00,  4.61it/s, accuracy=0.732, loss=0.778]\n",
      "Epoch 85/100 [Test]: 100%|██████████| 91/91 [00:10<00:00,  9.09it/s, accuracy=0.705, loss=0.819]\n"
     ]
    },
    {
     "name": "stdout",
     "output_type": "stream",
     "text": [
      "Epoch 85/100, Train Loss: 0.7777, Train Accuracy: 0.7324, Test Loss: 0.8187, Test Accuracy: 0.7053\n"
     ]
    },
    {
     "name": "stderr",
     "output_type": "stream",
     "text": [
      "Epoch 86/100 [Training]: 100%|██████████| 363/363 [01:18<00:00,  4.61it/s, accuracy=0.729, loss=0.775]\n",
      "Epoch 86/100 [Test]: 100%|██████████| 91/91 [00:09<00:00,  9.14it/s, accuracy=0.701, loss=0.814]\n"
     ]
    },
    {
     "name": "stdout",
     "output_type": "stream",
     "text": [
      "Epoch 86/100, Train Loss: 0.7750, Train Accuracy: 0.7290, Test Loss: 0.8139, Test Accuracy: 0.7008\n"
     ]
    },
    {
     "name": "stderr",
     "output_type": "stream",
     "text": [
      "Epoch 87/100 [Training]: 100%|██████████| 363/363 [01:18<00:00,  4.61it/s, accuracy=0.731, loss=0.772]\n",
      "Epoch 87/100 [Test]: 100%|██████████| 91/91 [00:09<00:00,  9.14it/s, accuracy=0.708, loss=0.817]\n"
     ]
    },
    {
     "name": "stdout",
     "output_type": "stream",
     "text": [
      "Epoch 87/100, Train Loss: 0.7716, Train Accuracy: 0.7314, Test Loss: 0.8165, Test Accuracy: 0.7082\n"
     ]
    },
    {
     "name": "stderr",
     "output_type": "stream",
     "text": [
      "Epoch 88/100 [Training]: 100%|██████████| 363/363 [01:18<00:00,  4.60it/s, accuracy=0.732, loss=0.766]\n",
      "Epoch 88/100 [Test]: 100%|██████████| 91/91 [00:09<00:00,  9.11it/s, accuracy=0.7, loss=0.817]  \n"
     ]
    },
    {
     "name": "stdout",
     "output_type": "stream",
     "text": [
      "Epoch 88/100, Train Loss: 0.7661, Train Accuracy: 0.7322, Test Loss: 0.8171, Test Accuracy: 0.7000\n"
     ]
    },
    {
     "name": "stderr",
     "output_type": "stream",
     "text": [
      "Epoch 89/100 [Training]: 100%|██████████| 363/363 [01:18<00:00,  4.61it/s, accuracy=0.732, loss=0.77] \n",
      "Epoch 89/100 [Test]: 100%|██████████| 91/91 [00:09<00:00,  9.12it/s, accuracy=0.691, loss=0.842]\n"
     ]
    },
    {
     "name": "stdout",
     "output_type": "stream",
     "text": [
      "Epoch 89/100, Train Loss: 0.7703, Train Accuracy: 0.7319, Test Loss: 0.8424, Test Accuracy: 0.6910\n"
     ]
    },
    {
     "name": "stderr",
     "output_type": "stream",
     "text": [
      "Epoch 90/100 [Training]: 100%|██████████| 363/363 [01:18<00:00,  4.60it/s, accuracy=0.734, loss=0.767]\n",
      "Epoch 90/100 [Test]: 100%|██████████| 91/91 [00:10<00:00,  8.99it/s, accuracy=0.702, loss=0.819]\n"
     ]
    },
    {
     "name": "stdout",
     "output_type": "stream",
     "text": [
      "Epoch 90/100, Train Loss: 0.7673, Train Accuracy: 0.7345, Test Loss: 0.8194, Test Accuracy: 0.7017\n"
     ]
    },
    {
     "name": "stderr",
     "output_type": "stream",
     "text": [
      "Epoch 91/100 [Training]: 100%|██████████| 363/363 [01:18<00:00,  4.61it/s, accuracy=0.731, loss=0.768]\n",
      "Epoch 91/100 [Test]: 100%|██████████| 91/91 [00:09<00:00,  9.11it/s, accuracy=0.699, loss=0.827]\n"
     ]
    },
    {
     "name": "stdout",
     "output_type": "stream",
     "text": [
      "Epoch 91/100, Train Loss: 0.7682, Train Accuracy: 0.7309, Test Loss: 0.8272, Test Accuracy: 0.6991\n"
     ]
    },
    {
     "name": "stderr",
     "output_type": "stream",
     "text": [
      "Epoch 92/100 [Training]: 100%|██████████| 363/363 [01:18<00:00,  4.62it/s, accuracy=0.733, loss=0.766]\n",
      "Epoch 92/100 [Test]: 100%|██████████| 91/91 [00:09<00:00,  9.14it/s, accuracy=0.694, loss=0.853]\n"
     ]
    },
    {
     "name": "stdout",
     "output_type": "stream",
     "text": [
      "Epoch 92/100, Train Loss: 0.7659, Train Accuracy: 0.7332, Test Loss: 0.8527, Test Accuracy: 0.6936\n"
     ]
    },
    {
     "name": "stderr",
     "output_type": "stream",
     "text": [
      "Epoch 93/100 [Training]: 100%|██████████| 363/363 [01:18<00:00,  4.62it/s, accuracy=0.736, loss=0.764]\n",
      "Epoch 93/100 [Test]: 100%|██████████| 91/91 [00:09<00:00,  9.15it/s, accuracy=0.685, loss=0.874]\n"
     ]
    },
    {
     "name": "stdout",
     "output_type": "stream",
     "text": [
      "Epoch 93/100, Train Loss: 0.7640, Train Accuracy: 0.7358, Test Loss: 0.8736, Test Accuracy: 0.6845\n"
     ]
    },
    {
     "name": "stderr",
     "output_type": "stream",
     "text": [
      "Epoch 94/100 [Training]: 100%|██████████| 363/363 [01:18<00:00,  4.60it/s, accuracy=0.735, loss=0.762]\n",
      "Epoch 94/100 [Test]: 100%|██████████| 91/91 [00:09<00:00,  9.14it/s, accuracy=0.698, loss=0.831]\n"
     ]
    },
    {
     "name": "stdout",
     "output_type": "stream",
     "text": [
      "Epoch 94/100, Train Loss: 0.7616, Train Accuracy: 0.7350, Test Loss: 0.8313, Test Accuracy: 0.6981\n"
     ]
    },
    {
     "name": "stderr",
     "output_type": "stream",
     "text": [
      "Epoch 95/100 [Training]: 100%|██████████| 363/363 [01:18<00:00,  4.61it/s, accuracy=0.737, loss=0.761]\n",
      "Epoch 95/100 [Test]: 100%|██████████| 91/91 [00:10<00:00,  9.05it/s, accuracy=0.708, loss=0.819]\n"
     ]
    },
    {
     "name": "stdout",
     "output_type": "stream",
     "text": [
      "Epoch 95/100, Train Loss: 0.7610, Train Accuracy: 0.7367, Test Loss: 0.8190, Test Accuracy: 0.7079\n"
     ]
    },
    {
     "name": "stderr",
     "output_type": "stream",
     "text": [
      "Epoch 96/100 [Training]: 100%|██████████| 363/363 [01:19<00:00,  4.58it/s, accuracy=0.736, loss=0.759]\n",
      "Epoch 96/100 [Test]: 100%|██████████| 91/91 [00:10<00:00,  9.04it/s, accuracy=0.694, loss=0.855]\n"
     ]
    },
    {
     "name": "stdout",
     "output_type": "stream",
     "text": [
      "Epoch 96/100, Train Loss: 0.7594, Train Accuracy: 0.7362, Test Loss: 0.8549, Test Accuracy: 0.6941\n"
     ]
    },
    {
     "name": "stderr",
     "output_type": "stream",
     "text": [
      "Epoch 97/100 [Training]: 100%|██████████| 363/363 [01:18<00:00,  4.61it/s, accuracy=0.737, loss=0.764]\n",
      "Epoch 97/100 [Test]: 100%|██████████| 91/91 [00:10<00:00,  9.06it/s, accuracy=0.705, loss=0.809]\n"
     ]
    },
    {
     "name": "stdout",
     "output_type": "stream",
     "text": [
      "Epoch 97/100, Train Loss: 0.7642, Train Accuracy: 0.7373, Test Loss: 0.8085, Test Accuracy: 0.7051\n"
     ]
    },
    {
     "name": "stderr",
     "output_type": "stream",
     "text": [
      "Epoch 98/100 [Training]: 100%|██████████| 363/363 [01:18<00:00,  4.61it/s, accuracy=0.738, loss=0.757]\n",
      "Epoch 98/100 [Test]: 100%|██████████| 91/91 [00:10<00:00,  9.05it/s, accuracy=0.693, loss=0.848]\n"
     ]
    },
    {
     "name": "stdout",
     "output_type": "stream",
     "text": [
      "Epoch 98/100, Train Loss: 0.7568, Train Accuracy: 0.7378, Test Loss: 0.8485, Test Accuracy: 0.6928\n"
     ]
    },
    {
     "name": "stderr",
     "output_type": "stream",
     "text": [
      "Epoch 99/100 [Training]: 100%|██████████| 363/363 [01:18<00:00,  4.61it/s, accuracy=0.74, loss=0.758] \n",
      "Epoch 99/100 [Test]: 100%|██████████| 91/91 [00:10<00:00,  9.10it/s, accuracy=0.663, loss=0.932]\n"
     ]
    },
    {
     "name": "stdout",
     "output_type": "stream",
     "text": [
      "Epoch 99/100, Train Loss: 0.7579, Train Accuracy: 0.7402, Test Loss: 0.9325, Test Accuracy: 0.6633\n"
     ]
    },
    {
     "name": "stderr",
     "output_type": "stream",
     "text": [
      "Epoch 100/100 [Training]: 100%|██████████| 363/363 [01:18<00:00,  4.63it/s, accuracy=0.74, loss=0.755] \n",
      "Epoch 100/100 [Test]: 100%|██████████| 91/91 [00:10<00:00,  9.05it/s, accuracy=0.699, loss=0.819]"
     ]
    },
    {
     "name": "stdout",
     "output_type": "stream",
     "text": [
      "Epoch 100/100, Train Loss: 0.7549, Train Accuracy: 0.7399, Test Loss: 0.8194, Test Accuracy: 0.6995\n"
     ]
    },
    {
     "name": "stderr",
     "output_type": "stream",
     "text": [
      "\n"
     ]
    }
   ],
   "source": [
    "num_epochs = 100\n",
    "\n",
    "# Lists to store metrics\n",
    "train_losses = []\n",
    "train_accuracies = []\n",
    "test_losses = []\n",
    "test_accuracies = []\n",
    "\n",
    "for epoch in range(num_epochs):\n",
    "    model.train()  # Set the model to training mode\n",
    "    train_loss = 0.0\n",
    "    correct_predictions = 0\n",
    "    total_predictions = 0\n",
    "\n",
    "    # Initialize the progress bar\n",
    "    train_bar = tqdm(train_loader, desc=f'Epoch {epoch+1}/{num_epochs} [Training]')\n",
    "    for inputs, labels in train_bar:\n",
    "        inputs, labels = inputs.to(device), labels.to(device)\n",
    "\n",
    "        # Zero the parameter gradients\n",
    "        optimizer.zero_grad()\n",
    "\n",
    "        # Forward pass\n",
    "        outputs = model(inputs)\n",
    "        loss = criterion(outputs, labels)\n",
    "\n",
    "        # Backward and optimize\n",
    "        loss.backward()\n",
    "        optimizer.step()\n",
    "\n",
    "        train_loss += loss.item() * inputs.size(0)\n",
    "        _, predicted = torch.max(outputs, 1)\n",
    "        correct_predictions += (predicted == labels).sum().item()\n",
    "        total_predictions += labels.size(0)\n",
    "\n",
    "        # Update the progress bar\n",
    "        train_bar.set_postfix(loss=(train_loss / total_predictions), accuracy=(correct_predictions / total_predictions))\n",
    "\n",
    "    # Calculate and store train loss and accuracy\n",
    "    epoch_train_loss = train_loss / len(train_loader.dataset)\n",
    "    epoch_train_acc = correct_predictions / total_predictions\n",
    "    train_losses.append(epoch_train_loss)\n",
    "    train_accuracies.append(epoch_train_acc)\n",
    "\n",
    "    # Validation phase\n",
    "    model.eval()  # Set the model to evaluation mode\n",
    "    test_loss = 0.0\n",
    "    correct_val = 0\n",
    "    total_val = 0\n",
    "\n",
    "    # No need to track gradients for validation\n",
    "    with torch.no_grad(), tqdm(test_loader, desc=f'Epoch {epoch+1}/{num_epochs} [Test]') as test_bar:\n",
    "        for inputs, labels in test_bar:\n",
    "            inputs, labels = inputs.to(device), labels.to(device)\n",
    "\n",
    "            outputs = model(inputs)\n",
    "            loss = criterion(outputs, labels)\n",
    "\n",
    "            test_loss += loss.item() * inputs.size(0)\n",
    "            _, predicted = torch.max(outputs, 1)\n",
    "            correct_val += (predicted == labels).sum().item()\n",
    "            total_val += labels.size(0)\n",
    "\n",
    "            # Update the progress bar\n",
    "            test_bar.set_postfix(loss=(test_loss / total_val), accuracy=(correct_val / total_val))\n",
    "\n",
    "    # Calculate and store validation loss and accuracy\n",
    "    epoch_test_loss = test_loss / len(test_loader.dataset)\n",
    "    epoch_test_acc = correct_val / total_val\n",
    "    test_losses.append(epoch_test_loss)\n",
    "    test_accuracies.append(epoch_test_acc)\n",
    "\n",
    "    model.train()\n",
    "    with open(\"Model_y/FER_model_{}.pth\".format(epoch), \"wb\") as f:\n",
    "        model.eval()\n",
    "        pickle.dump(model, f)\n",
    "        model.train()\n",
    "\n",
    "    # Print epoch stats\n",
    "    print(f'Epoch {epoch+1}/{num_epochs}, Train Loss: {epoch_train_loss:.4f}, Train Accuracy: {epoch_train_acc:.4f}, Test Loss: {epoch_test_loss:.4f}, Test Accuracy: {epoch_test_acc:.4f}')\n",
    "\n",
    "\n",
    "\n"
   ]
  },
  {
   "cell_type": "markdown",
   "metadata": {},
   "source": [
    "## Plot training and test loss, accuracy"
   ]
  },
  {
   "cell_type": "code",
   "execution_count": 9,
   "metadata": {},
   "outputs": [
    {
     "data": {
      "image/png": "[encoded data removed]",
      "text/plain": [
       "<Figure size 2000x700 with 2 Axes>"
      ]
     },
     "metadata": {},
     "output_type": "display_data"
    }
   ],
   "source": [
    "plots=[(train_losses,test_losses),(train_accuracies,test_accuracies)]\n",
    "plt_labels=[(\"Training Loss\",\"Test Loss\"),(\"Training Accuracy\",\"Test Accuracy\")]\n",
    "plt_titles=[\"Loss\",\"Accuracy\"]\n",
    "plt.figure(figsize=(20,7))\n",
    "for i in range(0,2):\n",
    "    ax=plt.subplot(1,2,i+1)\n",
    "    ax.plot(plots[i][0],label=plt_labels[i][0])\n",
    "    ax.plot(plots[i][1],label=plt_labels[i][1])\n",
    "    ax.set_title(plt_titles[i])\n",
    "    ax.legend()"
   ]
  },
  {
   "cell_type": "code",
   "execution_count": 10,
   "metadata": {},
   "outputs": [
    {
     "name": "stdout",
     "output_type": "stream",
     "text": [
      "Best accuracy on test set: 70.82%\n",
      "Best epoch: 87\n"
     ]
    }
   ],
   "source": [
    "# Selecting the best model\n",
    "best_acc = max(test_accuracies)\n",
    "best_epoch = test_accuracies.index(best_acc)+1\n",
    "\n",
    "print(\"Best accuracy on test set: {:.2f}%\".format(best_acc*100))\n",
    "print(\"Best epoch: {}\".format(best_epoch))\n",
    "\n",
    "# Load the best model\n",
    "with open(f\"Model_y/FER_model_{best_epoch}.pth\",\"rb\") as f:\n",
    "    best_model=pickle.load(f)"
   ]
  },
  {
   "cell_type": "markdown",
   "metadata": {},
   "source": [
    "## Recalculate the test loss and accuracy"
   ]
  },
  {
   "cell_type": "code",
   "execution_count": 11,
   "metadata": {},
   "outputs": [],
   "source": [
    "model = best_model\n",
    "pred_vec = []\n",
    "label_vec = []\n",
    "correct = 0\n",
    "test_loss = 0.0\n",
    "avg_test_loss = 0.0\n",
    "\n",
    "model.to(device)\n",
    "model.eval()\n",
    "with torch.no_grad():\n",
    "    for data in test_loader:\n",
    "        batch, labels = data\n",
    "        batch, labels = batch.to(device), labels.to(device)\n",
    "        outputs = model(batch)\n",
    "        loss = criterion(outputs, labels)\n",
    "        _, predicted = torch.max(outputs, 1)\n",
    "        correct += (predicted == labels).sum().item()\n",
    "        test_loss += loss.item()\n",
    "        pred_vec.extend(predicted.cpu().numpy())  # Convert tensor to numpy array\n",
    "        label_vec.extend(labels.cpu().numpy())  # Convert tensor to numpy array\n",
    "\n",
    "    avg_test_loss = test_loss / len(test_set)\n",
    "\n",
    "pred_vec = np.array(pred_vec)\n",
    "label_vec = np.array(label_vec)"
   ]
  },
  {
   "cell_type": "code",
   "execution_count": 12,
   "metadata": {},
   "outputs": [
    {
     "name": "stdout",
     "output_type": "stream",
     "text": [
      "Test Loss: 0.0127903230715163\n",
      "Test Accuracy on the 5813 test images: 69.99827971787373%\n"
     ]
    }
   ],
   "source": [
    "print(F\"Test Loss: {avg_test_loss}\")\n",
    "print(F\"Test Accuracy on the {len(test_set)} test images: {(100 * correct / len(test_set))}%\")"
   ]
  }
 ],
 "metadata": {
  "kernelspec": {
   "display_name": "Python 3",
   "language": "python",
   "name": "python3"
  },
  "language_info": {
   "codemirror_mode": {
    "name": "ipython",
    "version": 3
   },
   "file_extension": ".py",
   "mimetype": "text/x-python",
   "name": "python",
   "nbconvert_exporter": "python",
   "pygments_lexer": "ipython3",
   "version": "3.11.8"
  }
 },
 "nbformat": 4,
 "nbformat_minor": 2
}
